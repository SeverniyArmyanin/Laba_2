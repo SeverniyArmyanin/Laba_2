{
 "cells": [
  {
   "cell_type": "markdown",
   "id": "779bd136-16c5-46fb-b47c-3db316199a2d",
   "metadata": {},
   "source": [
    "# Задание 1. Создание и изменение массивов #\n",
    "\n",
    "Создайте массив NumPy размером 3×3, содержащий числа от 1 до 9. Умножьте\n",
    "все элементы массива на 2, а затем замените все элементы больше 10 на 0.\n",
    "Выведите итоговый массив."
   ]
  },
  {
   "cell_type": "code",
   "execution_count": 8,
   "id": "88c0850e-01cb-4491-b87b-12927ded288b",
   "metadata": {},
   "outputs": [
    {
     "name": "stdout",
     "output_type": "stream",
     "text": [
      "[[ 2  4  6]\n",
      " [ 8 10  0]\n",
      " [ 0  0  0]]\n"
     ]
    }
   ],
   "source": [
    "import numpy as np\n",
    "\n",
    "arr = np.array([[1, 2, 3],\n",
    "                [4, 5, 6],\n",
    "                [7, 8, 9]])\n",
    "arr = arr * 2\n",
    "arr[arr > 10] = 0\n",
    "print(arr)\n"
   ]
  },
  {
   "cell_type": "markdown",
   "id": "1a3fb3a6-7b5e-406f-aa15-f8bc0fda1397",
   "metadata": {},
   "source": [
    "# Задание 2. Работа с булевыми масками #\n",
    "\n",
    "Создайте массив NumPy из 20 случайных целых чисел от 1 до 100. Найдите и\n",
    "выведите все элементы, которые делятся на 5 без остатка. Затем замените их на\n",
    "-1 и выведите обновленный массив.\n"
   ]
  },
  {
   "cell_type": "code",
   "execution_count": 14,
   "id": "e91c9b0e-228e-4147-a985-e7ce83524741",
   "metadata": {},
   "outputs": [
    {
     "name": "stdout",
     "output_type": "stream",
     "text": [
      "[-1 31 -1 38 92 -1 47 -1  8 -1  9 16 97  1 -1 98 -1 -1 76 41]\n"
     ]
    }
   ],
   "source": [
    "import numpy as np\n",
    "\n",
    "mass = np.random.randint(1, 101, size=20)\n",
    "mass[mass % 5 == 0] = -1\n",
    "print(mass)"
   ]
  },
  {
   "cell_type": "markdown",
   "id": "2a048ea1-4a54-49c6-a6f2-4fe840e6f586",
   "metadata": {
    "editable": true,
    "slideshow": {
     "slide_type": ""
    },
    "tags": []
   },
   "source": [
    "# Задание 3. Объединение и разбиение массивов. #\n",
    "\n",
    "Создайте два массива NumPy размером 1×5, заполненные случайными числами\n",
    "от 0 до 50.\n",
    "\n",
    "Объедините эти массивы в один двумерный массив (по строкам).\n",
    " \n",
    "Разделите полученный массив на два массива, каждый из которых содержит 5 элементов.\n",
    "\n",
    "Выведите все промежуточные и итоговые результаты."
   ]
  },
  {
   "cell_type": "code",
   "execution_count": 24,
   "id": "eff7cf36-9166-4008-bc63-7cd284c74dc0",
   "metadata": {},
   "outputs": [
    {
     "data": {
      "text/plain": [
       "(array([13, 17, 41, 37, 47]), array([18, 33, 26, 11, 45]))"
      ]
     },
     "execution_count": 24,
     "metadata": {},
     "output_type": "execute_result"
    }
   ],
   "source": [
    "import numpy as np\n",
    "\n",
    "mass1 = np.random.randint(0, 51, size=5)\n",
    "mass2 = np.random.randint(0, 51, size=5)\n",
    "\n",
    "arr1, arr2"
   ]
  },
  {
   "cell_type": "code",
   "execution_count": 26,
   "id": "e3074141-b071-40bf-9e04-f3da899b0579",
   "metadata": {},
   "outputs": [
    {
     "data": {
      "text/plain": [
       "array([[ 8, 46, 20, 11, 14],\n",
       "       [45, 45, 28, 22, 28]])"
      ]
     },
     "execution_count": 26,
     "metadata": {},
     "output_type": "execute_result"
    }
   ],
   "source": [
    "comb_mass = np.vstack((mass1, mass2))\n",
    "\n",
    "comb_mass"
   ]
  },
  {
   "cell_type": "code",
   "execution_count": 28,
   "id": "8a46ad5f-c7ca-4be0-86d1-80972bb353ad",
   "metadata": {},
   "outputs": [
    {
     "data": {
      "text/plain": [
       "(array([[ 8, 46, 20, 11, 14]]), array([[45, 45, 28, 22, 28]]))"
      ]
     },
     "execution_count": 28,
     "metadata": {},
     "output_type": "execute_result"
    }
   ],
   "source": [
    "split_mass1, split_mass2 = np.split(comb_mass, 2, axis=0)\n",
    "\n",
    "split_mass1, split_mass2"
   ]
  },
  {
   "cell_type": "markdown",
   "id": "f52bc6bd-dddc-4506-bdc2-3534744fa43a",
   "metadata": {},
   "source": [
    "# Задание 4. Генерация и работа с линейными последовательностями #\n",
    "\n",
    "Создайте массив из 50 чисел, равномерно распределенных от -10 до 10.\n",
    "\n",
    "Вычислите сумму всех элементов, сумму положительных элементов и сумму отрицательных элементов.\n",
    "\n",
    "Выведите результаты."
   ]
  },
  {
   "cell_type": "code",
   "execution_count": 30,
   "id": "f28d05f6-9390-47c3-8cab-eda231f6db37",
   "metadata": {},
   "outputs": [
    {
     "data": {
      "text/plain": [
       "(7.105427357601002e-15, 127.55102040816328, -127.55102040816327)"
      ]
     },
     "execution_count": 30,
     "metadata": {},
     "output_type": "execute_result"
    }
   ],
   "source": [
    "import numpy as np\n",
    "\n",
    "mass = np.linspace(-10, 10, 50)\n",
    "sum_all = np.sum(mass)\n",
    "sum_positive = np.sum(mass[mass > 0])\n",
    "sum_negative = np.sum(mass[mass < 0])\n",
    "\n",
    "sum_all, sum_positive, sum_negative"
   ]
  },
  {
   "cell_type": "markdown",
   "id": "bfef7625-ffb1-4e45-a216-d89f03e034f6",
   "metadata": {},
   "source": [
    "# Задание 5. Работа с диагональными и единичными матрицами #\n",
    "\n",
    "Создайте:\n",
    "\n",
    "Единичную матрицу размером 4×4.\n",
    "\n",
    "Диагональную матрицу размером 4×4 с диагональными элементами [5, 10, 15,\n",
    "20] (не использовать циклы).\n",
    "\n",
    "Найдите сумму всех элементов каждой из этих матриц и сравните результаты."
   ]
  },
  {
   "cell_type": "code",
   "execution_count": 32,
   "id": "51c7c3d5-4e11-4e43-8303-2271813db9f5",
   "metadata": {},
   "outputs": [
    {
     "data": {
      "text/plain": [
       "(4.0, 50, True)"
      ]
     },
     "execution_count": 32,
     "metadata": {},
     "output_type": "execute_result"
    }
   ],
   "source": [
    "import numpy as np\n",
    "\n",
    "identity_matrix = np.eye(4)\n",
    "diagonal_matrix = np.diag([5, 10, 15, 20])\n",
    "sum_identity = np.sum(identity_matrix)\n",
    "sum_diagonal = np.sum(diagonal_matrix)\n",
    "\n",
    "sum_identity, sum_diagonal, sum_identity < sum_diagonal"
   ]
  },
  {
   "cell_type": "markdown",
   "id": "42138695-452d-4be1-be61-9690bc3f710a",
   "metadata": {},
   "source": [
    "# Задание 6: Создание и базовые операции с матрицами #\n",
    "\n",
    "Создайте две квадратные матрицы NumPy размером 3×3, заполненные\n",
    "случайными целыми числами от 1 до 20. Вычислите и выведите:\n",
    "\n",
    "Их сумму\n",
    "\n",
    "Их разность\n",
    "\n",
    "Их поэлементное произведение"
   ]
  },
  {
   "cell_type": "code",
   "execution_count": 34,
   "id": "a6713298-c0a8-497c-8a78-0fd7b3fc3456",
   "metadata": {},
   "outputs": [
    {
     "data": {
      "text/plain": [
       "(array([[17,  3, 16],\n",
       "        [ 7,  5,  2],\n",
       "        [17, 13,  1]]),\n",
       " array([[11,  7, 12],\n",
       "        [16,  5,  4],\n",
       "        [ 8,  3,  2]]),\n",
       " array([[28, 10, 28],\n",
       "        [23, 10,  6],\n",
       "        [25, 16,  3]]),\n",
       " array([[ 6, -4,  4],\n",
       "        [-9,  0, -2],\n",
       "        [ 9, 10, -1]]),\n",
       " array([[187,  21, 192],\n",
       "        [112,  25,   8],\n",
       "        [136,  39,   2]]))"
      ]
     },
     "execution_count": 34,
     "metadata": {},
     "output_type": "execute_result"
    }
   ],
   "source": [
    "import numpy as np\n",
    "\n",
    "mass1 = np.random.randint(1, 21, size=(3, 3))\n",
    "mass2 = np.random.randint(1, 21, size=(3, 3))\n",
    "sum_result = mass1 + mass2\n",
    "diff_result = mass1 - mass2\n",
    "multi_result = mass1 * mass2\n",
    "\n",
    "mass1, mass2, sum_result, diff_result, multi_result"
   ]
  },
  {
   "cell_type": "markdown",
   "id": "44079e9d-e9eb-49f3-ad73-894ff8b4ef3d",
   "metadata": {},
   "source": [
    "# Задание 7. Умножение матриц #\n",
    "\n",
    "Создайте две матрицы NumPy:\n",
    "\n",
    "Первую размером 2×3, заполненную случайными числами от 1 до 10.\n",
    "\n",
    "Вторую размером 3×2, заполненную случайными числами от 1 до 10.\n",
    "\n",
    "Выполните матричное умножение ( @ или np.dot ) и выведите результат."
   ]
  },
  {
   "cell_type": "code",
   "execution_count": 36,
   "id": "22e9b28b-bb43-4f1f-b40d-a905aac8fd70",
   "metadata": {},
   "outputs": [
    {
     "data": {
      "text/plain": [
       "(array([[2, 7, 8],\n",
       "        [2, 8, 4]]),\n",
       " array([[8, 2],\n",
       "        [2, 7],\n",
       "        [8, 3]]),\n",
       " array([[94, 77],\n",
       "        [64, 72]]))"
      ]
     },
     "execution_count": 36,
     "metadata": {},
     "output_type": "execute_result"
    }
   ],
   "source": [
    "import numpy as np\n",
    "\n",
    "mass1 = np.random.randint(1, 11, size=(2, 3))\n",
    "mass2 = np.random.randint(1, 11, size=(3, 2))\n",
    "result = mass1 @ mass2\n",
    "\n",
    "mass1, mass2, result"
   ]
  },
  {
   "cell_type": "markdown",
   "id": "618fcba6-2855-49ae-a31d-1505ae8e1bfc",
   "metadata": {},
   "source": [
    "# Задание 8. Определитель и обратная матрица #\n",
    "\n",
    "Создайте случайную квадратную матрицу 3×3. Найдите и выведите:\n",
    "\n",
    "Определитель этой матрицы\n",
    "\n",
    "Обратную матрицу (если существует, иначе выведите сообщение, что матрица вырождена)\n",
    "\n",
    "Используйте функции np.linalg.det и np.linalg.inv ."
   ]
  },
  {
   "cell_type": "code",
   "execution_count": 38,
   "id": "a7be4d61-e739-45e2-aedb-8132a1c84a39",
   "metadata": {},
   "outputs": [
    {
     "data": {
      "text/plain": [
       "(array([[ 7,  4,  8],\n",
       "        [ 5, 10,  7],\n",
       "        [ 5,  2,  3]]),\n",
       " -127.99999999999997,\n",
       " 'Обратная матрица найдена.',\n",
       " array([[-0.125    , -0.03125  ,  0.40625  ],\n",
       "        [-0.15625  ,  0.1484375,  0.0703125],\n",
       "        [ 0.3125   , -0.046875 , -0.390625 ]]))"
      ]
     },
     "execution_count": 38,
     "metadata": {},
     "output_type": "execute_result"
    }
   ],
   "source": [
    "import numpy as np\n",
    "\n",
    "mass = np.random.randint(1, 11, size=(3, 3))\n",
    "det = np.linalg.det(mass)\n",
    "\n",
    "if np.isclose(det, 0):\n",
    "    result = \"Матрица вырождена, обратной не существует.\"\n",
    "    inverse = None\n",
    "else:\n",
    "    inverse = np.linalg.inv(mass)\n",
    "    result = \"Обратная матрица найдена.\"\n",
    "\n",
    "mass, det, result, inverse"
   ]
  },
  {
   "cell_type": "markdown",
   "id": "3e9c4a58-4195-4f10-8725-a58dea9ce53d",
   "metadata": {},
   "source": [
    "# Задание 9. Транспортирование и след матрицы #\n",
    "\n",
    "Создайте матрицу NumPy размером 4×4, содержащую случайные целые числа от\n",
    "1 до 50. \n",
    "\n",
    "Выведите:\n",
    "\n",
    "Исходную матрицу\n",
    "\n",
    "Транспонированную матрицу\n",
    "\n",
    "След матрицы (сумму элементов на главной диагонали)\n",
    "\n",
    "Используйте np.trace для нахождения следа."
   ]
  },
  {
   "cell_type": "code",
   "execution_count": 40,
   "id": "eee5030e-c8a8-4554-a662-331c260daf29",
   "metadata": {},
   "outputs": [
    {
     "data": {
      "text/plain": [
       "(array([[32,  4, 40, 10],\n",
       "        [38, 25, 35, 40],\n",
       "        [ 5, 14, 38, 13],\n",
       "        [ 8, 48, 44, 18]]),\n",
       " array([[32, 38,  5,  8],\n",
       "        [ 4, 25, 14, 48],\n",
       "        [40, 35, 38, 44],\n",
       "        [10, 40, 13, 18]]),\n",
       " 113)"
      ]
     },
     "execution_count": 40,
     "metadata": {},
     "output_type": "execute_result"
    }
   ],
   "source": [
    "import numpy as np\n",
    "\n",
    "mass = np.random.randint(1, 51, size=(4, 4))\n",
    "transposed = mass.T\n",
    "trace = np.trace(mass)\n",
    "\n",
    "mass, transposed, trace"
   ]
  },
  {
   "cell_type": "markdown",
   "id": "80c2a2c4-1ac2-4687-a76a-a209871989a3",
   "metadata": {},
   "source": [
    "# Задание 10. Системы линейных уравнений #\n",
    "\n",
    "Решите систему линейных уравнений вида:\n",
    "\n",
    "\n",
    "\\begin{cases}\n",
    "2x + 3y - z = 5 \\\\\n",
    "4x - y + 2z = 6 \\\\\n",
    "-3x + 5y + 4z = -2\n",
    "\\end{cases}\n",
    "\n",
    "Используйте матричное представление Ax = B , где A – матрица коэффициентов,\n",
    "x – вектор неизвестных, B – вектор правой части. Решите систему с помощью\n",
    "np.linalg.solve и выведите результат."
   ]
  },
  {
   "cell_type": "code",
   "execution_count": 42,
   "id": "3024f813-98ea-4a8a-9b9f-5b56dbe52fc3",
   "metadata": {},
   "outputs": [
    {
     "data": {
      "text/plain": [
       "array([1.63963964, 0.57657658, 0.00900901])"
      ]
     },
     "execution_count": 42,
     "metadata": {},
     "output_type": "execute_result"
    }
   ],
   "source": [
    "import numpy as np\n",
    "\n",
    "A = np.array([\n",
    "    [2,  3, -1],\n",
    "    [4, -1,  2],\n",
    "    [-3, 5,  4]\n",
    "])\n",
    "B = np.array([5, 6, -2])\n",
    "x = np.linalg.solve(A, B)\n",
    "\n",
    "x"
   ]
  },
  {
   "cell_type": "markdown",
   "id": "7908f13e-8ead-444b-a9e2-de85a733691d",
   "metadata": {},
   "source": [
    "# Задание 11. Индивидуальное #\n",
    "\n",
    "Перераспределение бюджета. Городской бюджет распределяется между\n",
    "образованием, здравоохранением и транспортом. На здравоохранение\n",
    "выделяется в 1.5 раза больше, чем на транспорт, а на образование — на 20%\n",
    "больше, чем на здравоохранение. Всего в бюджете 5 000 000 рублей. Сколько\n",
    "денег выделено на каждую сферу?"
   ]
  },
  {
   "cell_type": "code",
   "execution_count": 44,
   "id": "e79c6acc-075e-4065-9400-054ee45dbf41",
   "metadata": {},
   "outputs": [
    {
     "data": {
      "text/plain": [
       "(array([1162790.69767442, 1744186.04651163, 2093023.25581395]),\n",
       " array([1162790.69767442, 1744186.04651163, 2093023.25581395]),\n",
       " array([1162790.69767442, 1744186.04651163, 2093023.25581396]))"
      ]
     },
     "execution_count": 44,
     "metadata": {},
     "output_type": "execute_result"
    }
   ],
   "source": [
    "import numpy as np\n",
    "\n",
    "A = np.array([\n",
    "    [-1.5, 1, 0],\n",
    "    [0, -1.2, 1],\n",
    "    [1, 1, 1]\n",
    "])\n",
    "B = np.array([0, 0, 5_000_000])\n",
    "sol_linalg = np.linalg.solve(A, B)\n",
    "sol_matrix = np.linalg.inv(A) @ B\n",
    "sol_cramer = [np.linalg.det(np.column_stack([B if i == j else A[:, j] for j in range(3)])) / np.linalg.det(A) for i in range(3)]\n",
    "\n",
    "sol_linalg, sol_matrix, np.array(sol_cramer)"
   ]
  },
  {
   "cell_type": "code",
   "execution_count": null,
   "id": "83d1e30a-2e83-4510-b771-77c0b4d152a7",
   "metadata": {},
   "outputs": [],
   "source": []
  }
 ],
 "metadata": {
  "kernelspec": {
   "display_name": "Python [conda env:base] *",
   "language": "python",
   "name": "conda-base-py"
  },
  "language_info": {
   "codemirror_mode": {
    "name": "ipython",
    "version": 3
   },
   "file_extension": ".py",
   "mimetype": "text/x-python",
   "name": "python",
   "nbconvert_exporter": "python",
   "pygments_lexer": "ipython3",
   "version": "3.12.7"
  }
 },
 "nbformat": 4,
 "nbformat_minor": 5
}
