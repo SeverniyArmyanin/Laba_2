{
 "cells": [
  {
   "cell_type": "markdown",
   "id": "2ec33f00-087b-4d7e-beba-0e545ec1e41d",
   "metadata": {},
   "source": [
    "Пример 1"
   ]
  },
  {
   "cell_type": "code",
   "execution_count": 3,
   "id": "018b4465-7bb2-4a1d-b67b-ae842838a57d",
   "metadata": {},
   "outputs": [
    {
     "name": "stdout",
     "output_type": "stream",
     "text": [
      "[5 7 9]\n"
     ]
    }
   ],
   "source": [
    "import numpy as np\n",
    "a = np.array([1, 2, 3])\n",
    "b = np.array([4, 5, 6])\n",
    "result = a + b # Быстрое сложение массивов\n",
    "print(result)"
   ]
  },
  {
   "cell_type": "markdown",
   "id": "7b359b3a-9ef2-4595-8d3b-d021fa870f5a",
   "metadata": {},
   "source": [
    "Создание массива"
   ]
  },
  {
   "cell_type": "code",
   "execution_count": null,
   "id": "2e313953-353a-494d-8ef1-c28667de8089",
   "metadata": {},
   "outputs": [],
   "source": [
    "import numpy as np\n",
    "arr = np.array([1, 2, 3, 4])"
   ]
  },
  {
   "cell_type": "markdown",
   "id": "ed870ee2-8492-4fc8-aeb4-a1f59144fdf6",
   "metadata": {},
   "source": [
    "Операции с массивами"
   ]
  },
  {
   "cell_type": "code",
   "execution_count": 8,
   "id": "a60d5e69-45a5-4601-9986-e43a63305e68",
   "metadata": {},
   "outputs": [
    {
     "name": "stdout",
     "output_type": "stream",
     "text": [
      "[5 7 9]\n"
     ]
    }
   ],
   "source": [
    "arr1 = np.array([1, 2, 3])\n",
    "arr2 = np.array([4, 5, 6])\n",
    "result = arr1 + arr2 # [5, 7, 9]\n",
    "print(result)"
   ]
  },
  {
   "cell_type": "markdown",
   "id": "67d1493b-aef8-4cd3-a08b-37fd7a40017f",
   "metadata": {},
   "source": [
    "Матричные операции"
   ]
  },
  {
   "cell_type": "code",
   "execution_count": 11,
   "id": "827f5fb0-a5c0-4b71-a60e-da7739ddb138",
   "metadata": {},
   "outputs": [
    {
     "name": "stdout",
     "output_type": "stream",
     "text": [
      "[[19 22]\n",
      " [43 50]]\n"
     ]
    }
   ],
   "source": [
    "matrix1 = np.array([[1, 2], [3, 4]])\n",
    "matrix2 = np.array([[5, 6], [7, 8]])\n",
    "result = np.dot(matrix1, matrix2) # Матричное умножение\n",
    "print(result)"
   ]
  },
  {
   "cell_type": "markdown",
   "id": "cf561d69-5bce-4a50-8dfc-9be333d37532",
   "metadata": {},
   "source": [
    "Статистические функции"
   ]
  },
  {
   "cell_type": "code",
   "execution_count": 16,
   "id": "c460bdac-b805-47b5-91fe-68c88c190ceb",
   "metadata": {},
   "outputs": [
    {
     "name": "stdout",
     "output_type": "stream",
     "text": [
      "3.0 1.4142135623730951\n"
     ]
    }
   ],
   "source": [
    "data = np.array([1, 2, 3, 4, 5])\n",
    "mean = np.mean(data) # Среднее значение\n",
    "std_dev = np.std(data) # Стандартное отклонение\n",
    "print(mean, std_dev)"
   ]
  },
  {
   "cell_type": "markdown",
   "id": "d7bf6e44-1811-4fed-8ba1-f47f7433fcf5",
   "metadata": {},
   "source": [
    "Поддержка векторизации "
   ]
  },
  {
   "cell_type": "code",
   "execution_count": 18,
   "id": "d3bbd1bc-614e-4db6-a36f-fa88ddee2a14",
   "metadata": {},
   "outputs": [
    {
     "name": "stdout",
     "output_type": "stream",
     "text": [
      "[2 4 6 8]\n"
     ]
    }
   ],
   "source": [
    "import numpy as np\n",
    "arr = np.array([1, 2, 3, 4])\n",
    "result = arr * 2 # Быстрое поэлементное умножение\n",
    "print(result)"
   ]
  },
  {
   "cell_type": "markdown",
   "id": "e75ffe7f-8112-4f95-8bfd-5a0af6199b87",
   "metadata": {},
   "source": [
    "Доступ к элементам массива"
   ]
  },
  {
   "cell_type": "code",
   "execution_count": 31,
   "id": "439b3d6f-d88e-4ec9-9cf3-ee75616b765b",
   "metadata": {},
   "outputs": [
    {
     "name": "stdout",
     "output_type": "stream",
     "text": [
      "[[1 2 3 4]\n",
      " [5 6 7 8]\n",
      " [9 1 5 7]]\n",
      "5\n",
      "[[5 6 7 8]]\n",
      "[[3]\n",
      " [7]\n",
      " [5]]\n",
      "[[7 8]]\n",
      "[[2]\n",
      " [6]]\n",
      "[[2 3]\n",
      " [6 7]]\n"
     ]
    }
   ],
   "source": [
    ">>> import numpy as np\n",
    "#Теперь создадим матрицу, с которой будем работать.\n",
    ">>> m = np.matrix('1 2 3 4; 5 6 7 8; 9 1 5 7')\n",
    ">>> print(m)\n",
    ">>> print(m[1, 0])\n",
    ">>> print(m[1, :])\n",
    ">>> print(m[:, 2])\n",
    ">>> print(m[1, 2:])\n",
    ">>> print(m[0:2, 1])\n",
    ">>> print(m[0:2, 1:3])"
   ]
  },
  {
   "cell_type": "markdown",
   "id": "bea490e7-3179-400d-905d-4d5001de2ee4",
   "metadata": {},
   "source": [
    "Использование boolean массива для к ndarray "
   ]
  },
  {
   "cell_type": "code",
   "execution_count": 34,
   "id": "2716d269-8a09-487f-b041-d845e32be095",
   "metadata": {},
   "outputs": [
    {
     "name": "stdout",
     "output_type": "stream",
     "text": [
      "False\n"
     ]
    }
   ],
   "source": [
    ">>> nums = np.array([1, 2, 3, 4, 5, 6, 7, 8, 9, 10])\n",
    ">>> letters = np.array(['a', 'b', 'c', 'd', 'a', 'e', 'b'])\n",
    ">>> b = 5 > 7\n",
    ">>> print(b)"
   ]
  },
  {
   "cell_type": "code",
   "execution_count": 42,
   "id": "dac80494-a069-4930-b0ca-fa204b821ab7",
   "metadata": {},
   "outputs": [
    {
     "data": {
      "text/plain": [
       "matrix([[False, False,  True,  True],\n",
       "        [ True,  True,  True, False],\n",
       "        [False, False,  True,  True]])"
      ]
     },
     "execution_count": 42,
     "metadata": {},
     "output_type": "execute_result"
    }
   ],
   "source": [
    ">>> mod_m = np.logical_and(m>=3, m<=7)\n",
    ">>> mod_m"
   ]
  },
  {
   "cell_type": "code",
   "execution_count": 45,
   "id": "1e27a1e1-297c-4767-8041-88b928c6a6bd",
   "metadata": {},
   "outputs": [
    {
     "data": {
      "text/plain": [
       "array([1, 2, 3, 4])"
      ]
     },
     "execution_count": 45,
     "metadata": {},
     "output_type": "execute_result"
    }
   ],
   "source": [
    ">>> nums = np.array([1, 2, 3, 4, 5, 6, 7, 8, 9, 10])\n",
    ">>> nums[nums < 5]"
   ]
  },
  {
   "cell_type": "code",
   "execution_count": 47,
   "id": "3d8a6feb-c32a-4ec8-a1ce-4b22947d6082",
   "metadata": {},
   "outputs": [
    {
     "name": "stdout",
     "output_type": "stream",
     "text": [
      "[10 10 10 10  5  6  7  8  9 10]\n"
     ]
    }
   ],
   "source": [
    ">>> nums[nums < 5] = 10\n",
    ">>> print(nums)"
   ]
  },
  {
   "cell_type": "code",
   "execution_count": 49,
   "id": "0a25b6c0-ebb6-4efe-9abc-5a86ca0855f0",
   "metadata": {},
   "outputs": [
    {
     "name": "stdout",
     "output_type": "stream",
     "text": [
      "[[ 1  2  3  4]\n",
      " [ 5  6  7 25]\n",
      " [25  1  5  7]]\n"
     ]
    }
   ],
   "source": [
    ">>> m[m > 7] = 25\n",
    ">>> print(m)"
   ]
  },
  {
   "cell_type": "markdown",
   "id": "cf31327b-4257-4533-82d9-7556728d17a4",
   "metadata": {},
   "source": [
    "Допольнительные функции"
   ]
  },
  {
   "cell_type": "code",
   "execution_count": 51,
   "id": "a7478d63-3dec-4693-8e4d-f795fa8401e4",
   "metadata": {},
   "outputs": [
    {
     "data": {
      "text/plain": [
       "array([0, 1, 2, 3, 4, 5, 6, 7, 8, 9])"
      ]
     },
     "execution_count": 51,
     "metadata": {},
     "output_type": "execute_result"
    }
   ],
   "source": [
    ">>> np.arange(10)"
   ]
  },
  {
   "cell_type": "code",
   "execution_count": 54,
   "id": "72ddef6f-bd7e-4924-874d-be0d8acaf6df",
   "metadata": {},
   "outputs": [
    {
     "data": {
      "text/plain": [
       "array([ 5,  6,  7,  8,  9, 10, 11])"
      ]
     },
     "execution_count": 54,
     "metadata": {},
     "output_type": "execute_result"
    }
   ],
   "source": [
    ">>> np.arange(5, 12)"
   ]
  },
  {
   "cell_type": "code",
   "execution_count": 56,
   "id": "580fb95e-4620-4032-8f25-2b70e5c0a8c0",
   "metadata": {},
   "outputs": [
    {
     "data": {
      "text/plain": [
       "array([1. , 1.5, 2. , 2.5, 3. , 3.5, 4. , 4.5])"
      ]
     },
     "execution_count": 56,
     "metadata": {},
     "output_type": "execute_result"
    }
   ],
   "source": [
    ">>> np.arange(1, 5, 0.5)"
   ]
  },
  {
   "cell_type": "code",
   "execution_count": 58,
   "id": "bfa793e1-5f2f-4fe5-872c-5271b8a5ca5a",
   "metadata": {},
   "outputs": [
    {
     "data": {
      "text/plain": [
       "matrix([[1, 2],\n",
       "        [3, 4]])"
      ]
     },
     "execution_count": 58,
     "metadata": {},
     "output_type": "execute_result"
    }
   ],
   "source": [
    ">>> a = [[1, 2], [3, 4]]\n",
    ">>> np.matrix(a)"
   ]
  },
  {
   "cell_type": "code",
   "execution_count": 60,
   "id": "b03e4f2d-26b3-46a3-97e4-d22c9cbd55f8",
   "metadata": {},
   "outputs": [
    {
     "data": {
      "text/plain": [
       "matrix([[1, 2],\n",
       "        [3, 4]])"
      ]
     },
     "execution_count": 60,
     "metadata": {},
     "output_type": "execute_result"
    }
   ],
   "source": [
    ">>> np.matrix('[1, 2; 3, 4]')"
   ]
  },
  {
   "cell_type": "code",
   "execution_count": 62,
   "id": "e0352178-9340-4405-a6a7-aee2980e04ea",
   "metadata": {},
   "outputs": [
    {
     "data": {
      "text/plain": [
       "array([[0., 0., 0., 0.],\n",
       "       [0., 0., 0., 0.],\n",
       "       [0., 0., 0., 0.]])"
      ]
     },
     "execution_count": 62,
     "metadata": {},
     "output_type": "execute_result"
    }
   ],
   "source": [
    ">>> np.zeros((3, 4))"
   ]
  },
  {
   "cell_type": "code",
   "execution_count": 64,
   "id": "a7265779-1101-42fc-a734-608748d6f8c4",
   "metadata": {},
   "outputs": [
    {
     "data": {
      "text/plain": [
       "array([[1., 0., 0.],\n",
       "       [0., 1., 0.],\n",
       "       [0., 0., 1.]])"
      ]
     },
     "execution_count": 64,
     "metadata": {},
     "output_type": "execute_result"
    }
   ],
   "source": [
    ">>> np.eye(3)"
   ]
  },
  {
   "cell_type": "code",
   "execution_count": 66,
   "id": "ec6453b2-0e7f-4d24-938c-ab3a521d8df9",
   "metadata": {},
   "outputs": [
    {
     "data": {
      "text/plain": [
       "array([[1, 2, 3],\n",
       "       [4, 5, 6],\n",
       "       [7, 8, 9]])"
      ]
     },
     "execution_count": 66,
     "metadata": {},
     "output_type": "execute_result"
    }
   ],
   "source": [
    ">>> A = np.array([[1, 2, 3], [4, 5, 6], [7, 8, 9]])\n",
    ">>> A"
   ]
  },
  {
   "cell_type": "markdown",
   "id": "42268366-d97f-42e7-a0a1-b9a2701061ab",
   "metadata": {},
   "source": [
    "Матрицы"
   ]
  },
  {
   "cell_type": "code",
   "execution_count": 68,
   "id": "e1c612ed-5d72-4c66-9277-59d45d9a3735",
   "metadata": {},
   "outputs": [
    {
     "name": "stdout",
     "output_type": "stream",
     "text": [
      "[1 2]\n"
     ]
    }
   ],
   "source": [
    ">>> v_hor_np = np.array([1, 2])\n",
    ">>> print(v_hor_np )"
   ]
  },
  {
   "cell_type": "code",
   "execution_count": 70,
   "id": "5499b37c-6d61-4eae-b94c-8ebc66312125",
   "metadata": {},
   "outputs": [
    {
     "name": "stdout",
     "output_type": "stream",
     "text": [
      "[0. 0. 0. 0. 0.]\n"
     ]
    }
   ],
   "source": [
    ">>> v_hor_zeros_v1 = np.zeros((5,))\n",
    ">>> print(v_hor_zeros_v1 )"
   ]
  },
  {
   "cell_type": "code",
   "execution_count": 72,
   "id": "05ab9cfa-606e-4e8d-933d-48b5026c3a33",
   "metadata": {},
   "outputs": [
    {
     "name": "stdout",
     "output_type": "stream",
     "text": [
      "[[0. 0. 0. 0. 0.]]\n"
     ]
    }
   ],
   "source": [
    ">>> v_hor_zeros_v2 = np.zeros((1, 5))\n",
    ">>> print(v_hor_zeros_v2 )"
   ]
  },
  {
   "cell_type": "code",
   "execution_count": 76,
   "id": "df507d6c-c203-4881-ab35-43b08952de24",
   "metadata": {},
   "outputs": [
    {
     "name": "stdout",
     "output_type": "stream",
     "text": [
      "[1. 1. 1. 1. 1.]\n"
     ]
    }
   ],
   "source": [
    ">>> v_hor_one_v1 = np.ones((5,))\n",
    ">>> print(v_hor_one_v1)"
   ]
  },
  {
   "cell_type": "code",
   "execution_count": 78,
   "id": "aff0b3ee-877c-42cf-b5cd-14d23e936bd7",
   "metadata": {},
   "outputs": [
    {
     "name": "stdout",
     "output_type": "stream",
     "text": [
      "[[1. 1. 1. 1. 1.]]\n"
     ]
    }
   ],
   "source": [
    ">>> v_hor_one_v2 = np.ones((1, 5))\n",
    ">>> print(v_hor_one_v2)"
   ]
  },
  {
   "cell_type": "markdown",
   "id": "fde533f2-d350-40fa-a887-39682de232eb",
   "metadata": {},
   "source": [
    "Квадратные матрицы "
   ]
  },
  {
   "cell_type": "code",
   "execution_count": 92,
   "id": "a27f5c7b-e0be-4cf3-b103-185e6672429f",
   "metadata": {},
   "outputs": [
    {
     "name": "stdout",
     "output_type": "stream",
     "text": [
      "[[1 2 3]\n",
      " [4 5 6]\n",
      " [7 8 9]]\n"
     ]
    }
   ],
   "source": [
    ">>> m_sqr_arr = np.array([[1, 2, 3], [4, 5, 6], [7, 8, 9]])\n",
    ">>> print(m_sqr_arr)"
   ]
  },
  {
   "cell_type": "code",
   "execution_count": 94,
   "id": "28fef965-a79b-4de0-bdee-3118e41ed220",
   "metadata": {},
   "outputs": [
    {
     "name": "stdout",
     "output_type": "stream",
     "text": [
      "[[1 2 3]\n",
      " [4 5 6]\n",
      " [7 8 9]]\n"
     ]
    }
   ],
   "source": [
    ">>> m_sqr = [[1, 2, 3], [4, 5, 6], [7, 8, 9]]\n",
    ">>> m_sqr_arr = np.array(m_sqr)\n",
    ">>> print(m_sqr_arr)"
   ]
  },
  {
   "cell_type": "code",
   "execution_count": 96,
   "id": "7137b981-74f9-43c9-96ea-6093b64f93a5",
   "metadata": {},
   "outputs": [
    {
     "name": "stdout",
     "output_type": "stream",
     "text": [
      "[[1 2 3]\n",
      " [4 5 6]\n",
      " [7 8 9]]\n"
     ]
    }
   ],
   "source": [
    ">>> m_sqr_mx = np.matrix([[1, 2, 3], [4, 5, 6], [7, 8, 9]])\n",
    ">>> print(m_sqr_mx)"
   ]
  },
  {
   "cell_type": "code",
   "execution_count": 98,
   "id": "0663e532-9324-46ed-bfa5-db534d565e7c",
   "metadata": {},
   "outputs": [
    {
     "name": "stdout",
     "output_type": "stream",
     "text": [
      "[[1 2 3]\n",
      " [4 5 6]\n",
      " [7 8 9]]\n"
     ]
    }
   ],
   "source": [
    ">>> m_sqr_mx = np.matrix('1 2 3; 4 5 6; 7 8 9')\n",
    ">>> print(m_sqr_mx)"
   ]
  },
  {
   "cell_type": "markdown",
   "id": "8e177780-e0e7-414b-a037-d11ce19fa47c",
   "metadata": {},
   "source": [
    "Диагональная матрица"
   ]
  },
  {
   "cell_type": "code",
   "execution_count": 103,
   "id": "dae97afb-e9f4-45e9-8d83-965c5ad99ab6",
   "metadata": {},
   "outputs": [
    {
     "name": "stdout",
     "output_type": "stream",
     "text": [
      "[[1 0 0]\n",
      " [0 5 0]\n",
      " [0 0 9]]\n"
     ]
    }
   ],
   "source": [
    ">>> m_diag = [[1, 0, 0], [0, 5, 0], [0, 0, 9]]\n",
    ">>> m_diag_np = np.matrix(m_diag)\n",
    ">>> print(m_diag_np)"
   ]
  },
  {
   "cell_type": "code",
   "execution_count": 105,
   "id": "86cb3118-ac32-4a8a-be63-58f40da35803",
   "metadata": {},
   "outputs": [
    {
     "name": "stdout",
     "output_type": "stream",
     "text": [
      "[1 5 9]\n"
     ]
    }
   ],
   "source": [
    ">>> diag = np.diag(m_sqr_mx)\n",
    ">>> print(diag)"
   ]
  }
 ],
 "metadata": {
  "kernelspec": {
   "display_name": "Python [conda env:base] *",
   "language": "python",
   "name": "conda-base-py"
  },
  "language_info": {
   "codemirror_mode": {
    "name": "ipython",
    "version": 3
   },
   "file_extension": ".py",
   "mimetype": "text/x-python",
   "name": "python",
   "nbconvert_exporter": "python",
   "pygments_lexer": "ipython3",
   "version": "3.12.7"
  }
 },
 "nbformat": 4,
 "nbformat_minor": 5
}
